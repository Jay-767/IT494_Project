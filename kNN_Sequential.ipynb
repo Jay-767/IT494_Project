{
  "cells": [
    {
      "cell_type": "code",
      "source": [
        "from google.colab import drive\n",
        "drive.mount('/content/drive')"
      ],
      "metadata": {
        "colab": {
          "base_uri": "https://localhost:8080/"
        },
        "id": "TBHcap5_ekRa",
        "outputId": "5777e75f-3ffa-48f8-a08d-caa5c0bcfee2"
      },
      "id": "TBHcap5_ekRa",
      "execution_count": null,
      "outputs": [
        {
          "output_type": "stream",
          "name": "stdout",
          "text": [
            "Mounted at /content/drive\n"
          ]
        }
      ]
    },
    {
      "cell_type": "code",
      "source": [
        "from sklearn.neighbors import KNeighborsClassifier\n",
        "from sklearn.model_selection import train_test_split\n",
        "from sklearn.datasets import load_iris\n",
        "import numpy as np\n",
        "import matplotlib.pyplot as plt\n",
        "import pandas as pd"
      ],
      "metadata": {
        "id": "9mnakso7eyak"
      },
      "id": "9mnakso7eyak",
      "execution_count": 64,
      "outputs": []
    },
    {
      "cell_type": "code",
      "source": [
        "mnist_train = pd.read_csv('/content/drive/MyDrive/datasets/poker-hand-training-true.data',header = None)\n",
        "mnist_test = pd.read_csv('/content/drive/MyDrive/datasets/poker-hand-testing.data',header = None)"
      ],
      "metadata": {
        "id": "tUbtP0gyfUyU"
      },
      "id": "tUbtP0gyfUyU",
      "execution_count": 71,
      "outputs": []
    },
    {
      "cell_type": "code",
      "source": [
        "col = [i for i in range(1,len(mnist_train.columns))]\n",
        "row = [i for i in range(0,100)]\n",
        "y_df_train = mnist_train.iloc[:,[0]]\n",
        "x_df_train = mnist_train.iloc[:,col]\n",
        "y_df_test = mnist_test.iloc[row,[0]]\n",
        "x_df_test = mnist_test.iloc[row,col]"
      ],
      "metadata": {
        "id": "W18drYuShk28"
      },
      "id": "W18drYuShk28",
      "execution_count": 72,
      "outputs": []
    },
    {
      "cell_type": "code",
      "source": [
        "X_train = x_df_train.to_numpy()\n",
        "Y_train = y_df_train.to_numpy().flatten()\n",
        "X_test = x_df_test.to_numpy()\n",
        "Y_test = y_df_test.to_numpy().flatten()"
      ],
      "metadata": {
        "id": "OE7hrqqkfXWX"
      },
      "id": "OE7hrqqkfXWX",
      "execution_count": 73,
      "outputs": []
    },
    {
      "cell_type": "code",
      "source": [
        "print(len(X_train))"
      ],
      "metadata": {
        "colab": {
          "base_uri": "https://localhost:8080/"
        },
        "id": "M-baUMHoB-EY",
        "outputId": "a3c24d3d-40d3-4724-d1b9-a40635a3fb12"
      },
      "id": "M-baUMHoB-EY",
      "execution_count": 77,
      "outputs": [
        {
          "output_type": "stream",
          "name": "stdout",
          "text": [
            "25010\n"
          ]
        }
      ]
    },
    {
      "cell_type": "code",
      "execution_count": 83,
      "id": "a0e63c72",
      "metadata": {
        "colab": {
          "base_uri": "https://localhost:8080/"
        },
        "id": "a0e63c72",
        "outputId": "43888001-a3ca-451c-d7a8-b917bae42950"
      },
      "outputs": [
        {
          "output_type": "stream",
          "name": "stdout",
          "text": [
            "[2 1 1 1 3 2 1 2 1 1 1 4 2 1 1 4 1 4 4 2 1 2 4 3 1 2 2 4 4 4 1 1 1 1 4 2 3\n",
            " 1 1 4 2 2 2 4 1 1 1 3 4 2 3 1 3 3 3 3 4 3 2 2 2 2 2 2 1 1 2 3 3 2 2 2 3 1\n",
            " 1 1 1 2 3 2 3 3 3 3 3 1 2 4 1 3 3 3 3 1 3 3 1 1 2 1]\n"
          ]
        }
      ],
      "source": [
        "# Import necessary modules\n",
        "# Split into training and test set\n",
        "  \n",
        "knn = KNeighborsClassifier(n_neighbors=10)\n",
        "  \n",
        "knn.fit(X_train, Y_train)\n",
        "  \n",
        "# Predict on dataset which model has not seen before\n",
        "print(knn.predict(X_test))"
      ]
    },
    {
      "cell_type": "code",
      "execution_count": 84,
      "id": "d83ed9f5",
      "metadata": {
        "colab": {
          "base_uri": "https://localhost:8080/"
        },
        "id": "d83ed9f5",
        "outputId": "ae3e2c67-3aa2-4b0b-a031-5023e4302485"
      },
      "outputs": [
        {
          "output_type": "stream",
          "name": "stdout",
          "text": [
            "0.23\n"
          ]
        }
      ],
      "source": [
        "# Calculate the accuracy of the model\n",
        "print(knn.score(X_test, Y_test))"
      ]
    },
    {
      "cell_type": "code",
      "execution_count": 85,
      "id": "eb08a150",
      "metadata": {
        "id": "eb08a150",
        "outputId": "9ee1bc15-dc68-454d-baed-6c7126bc47b3",
        "colab": {
          "base_uri": "https://localhost:8080/",
          "height": 280
        }
      },
      "outputs": [
        {
          "output_type": "display_data",
          "data": {
            "text/plain": [
              "<Figure size 432x288 with 1 Axes>"
            ],
            "image/png": "[encoded data removed]"
          },
          "metadata": {
            "needs_background": "light"
          }
        }
      ],
      "source": [
        "neighbors = np.arange(1, 9)\n",
        "train_accuracy = np.empty(len(neighbors))\n",
        "test_accuracy = np.empty(len(neighbors))\n",
        "  \n",
        "# Loop over K values\n",
        "for i, k in enumerate(neighbors):\n",
        "    knn = KNeighborsClassifier(n_neighbors=k)\n",
        "    knn.fit(X_train, Y_train)\n",
        "      \n",
        "    # Compute training and test data accuracy\n",
        "    train_accuracy[i] = knn.score(X_train, Y_train)\n",
        "    test_accuracy[i] = knn.score(X_test, Y_test)\n",
        "  \n",
        "# Generate plot\n",
        "plt.plot(neighbors, test_accuracy, label = 'Testing dataset Accuracy')\n",
        "plt.plot(neighbors, train_accuracy, label = 'Training dataset Accuracy')\n",
        "  \n",
        "plt.legend()\n",
        "plt.xlabel('n_neighbors')\n",
        "plt.ylabel('Accuracy')\n",
        "plt.show()"
      ]
    }
  ],
  "metadata": {
    "kernelspec": {
      "display_name": "Python 3 (ipykernel)",
      "language": "python",
      "name": "python3"
    },
    "language_info": {
      "codemirror_mode": {
        "name": "ipython",
        "version": 3
      },
      "file_extension": ".py",
      "mimetype": "text/x-python",
      "name": "python",
      "nbconvert_exporter": "python",
      "pygments_lexer": "ipython3",
      "version": "3.9.7"
    },
    "colab": {
      "provenance": []
    }
  },
  "nbformat": 4,
  "nbformat_minor": 5
}
